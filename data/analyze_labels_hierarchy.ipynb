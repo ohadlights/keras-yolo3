{
 "cells": [
  {
   "cell_type": "code",
   "execution_count": 8,
   "metadata": {},
   "outputs": [],
   "source": [
    "import json"
   ]
  },
  {
   "cell_type": "code",
   "execution_count": 9,
   "metadata": {},
   "outputs": [],
   "source": [
    "with open(r'C:\\FaceWS\\keras-yolo3\\data\\bbox_labels_500_hierarchy.json') as f:\n",
    "    data = json.load(f)"
   ]
  },
  {
   "cell_type": "code",
   "execution_count": 10,
   "metadata": {},
   "outputs": [
    {
     "name": "stdout",
     "output_type": "stream",
     "text": [
      "root len = 2\n",
      "root keys: LabelName, Subcategory\n"
     ]
    }
   ],
   "source": [
    "print('root len = {}'.format(len(data)))\n",
    "print('root keys: {}'.format(', '.join(list(data.keys()))))"
   ]
  },
  {
   "cell_type": "code",
   "execution_count": 11,
   "metadata": {},
   "outputs": [
    {
     "name": "stdout",
     "output_type": "stream",
     "text": [
      "len(level_1) = 177\n"
     ]
    }
   ],
   "source": [
    "level_1 = data['Subcategory']\n",
    "print('len(level_1) = {}'.format(len(level_1)))"
   ]
  },
  {
   "cell_type": "code",
   "execution_count": 20,
   "metadata": {},
   "outputs": [],
   "source": [
    "def process_leaf(leaf, level):\n",
    "    print('{}{}'.format(''.join('\\t' for i in range(level)), len(leaf)))\n",
    "    for c in leaf:\n",
    "        if 'Subcategory' in c:\n",
    "            process_leaf(c['Subcategory'], level+1)"
   ]
  },
  {
   "cell_type": "code",
   "execution_count": 22,
   "metadata": {},
   "outputs": [
    {
     "name": "stdout",
     "output_type": "stream",
     "text": [
      "177\n",
      "\t5\n",
      "\t14\n",
      "\t6\n",
      "\t10\n",
      "\t18\n",
      "\t9\n",
      "\t17\n",
      "\t\t2\n",
      "\t\t2\n",
      "\t\t2\n",
      "\t3\n",
      "\t3\n",
      "\t1\n",
      "\t7\n",
      "\t4\n",
      "\t5\n",
      "\t15\n",
      "\t1\n",
      "\t\t4\n",
      "\t13\n",
      "\t\t2\n",
      "\t2\n",
      "\t4\n",
      "\t4\n",
      "\t3\n",
      "\t\t14\n",
      "\t\t\t2\n",
      "\t\t2\n",
      "\t\t\t3\n",
      "\t\t3\n",
      "\t4\n",
      "\t1\n",
      "\t1\n",
      "\t1\n",
      "\t4\n",
      "\t4\n",
      "\t2\n",
      "\t30\n",
      "\t\t16\n",
      "\t\t7\n",
      "\t\t\t5\n",
      "\t\t\t5\n",
      "\t\t\t\t1\n",
      "\t\t\t\t2\n",
      "\t\t12\n",
      "\t\t\t3\n",
      "\t\t4\n",
      "\t\t6\n",
      "\t\t\t2\n",
      "\t\t3\n",
      "\t\t4\n",
      "\t5\n",
      "\t16\n",
      "\t5\n",
      "\t2\n",
      "\t10\n",
      "\t2\n",
      "\t6\n"
     ]
    }
   ],
   "source": [
    "process_leaf(data['Subcategory'], 0)"
   ]
  },
  {
   "cell_type": "code",
   "execution_count": 44,
   "metadata": {},
   "outputs": [],
   "source": [
    "num_groups = 10\n",
    "group_limit = 500 // num_groups\n",
    "groups = [[] for i in range(num_groups)]"
   ]
  },
  {
   "cell_type": "code",
   "execution_count": 45,
   "metadata": {},
   "outputs": [],
   "source": [
    "def add_leaf_to_group(group, leaf):\n",
    "    group += [leaf['LabelName']]\n",
    "    if 'Subcategory' in leaf:\n",
    "        for c in leaf['Subcategory']:\n",
    "            add_leaf_to_group(group, c)"
   ]
  },
  {
   "cell_type": "code",
   "execution_count": 46,
   "metadata": {},
   "outputs": [],
   "source": [
    "current_group = 0\n",
    "for c in data['Subcategory']:\n",
    "    add_leaf_to_group(groups[current_group], c)\n",
    "    if len(groups[current_group]) > group_limit and current_group != num_groups - 1:\n",
    "        current_group += 1"
   ]
  },
  {
   "cell_type": "code",
   "execution_count": 47,
   "metadata": {},
   "outputs": [
    {
     "name": "stdout",
     "output_type": "stream",
     "text": [
      "67\n",
      "53\n",
      "58\n",
      "76\n",
      "145\n",
      "51\n",
      "51\n",
      "19\n",
      "0\n",
      "0\n"
     ]
    }
   ],
   "source": [
    "for i in range(num_groups):\n",
    "    print(len(groups[i]))"
   ]
  },
  {
   "cell_type": "code",
   "execution_count": 48,
   "metadata": {},
   "outputs": [
    {
     "name": "stdout",
     "output_type": "stream",
     "text": [
      "6\n"
     ]
    }
   ],
   "source": [
    "print(len(set(groups[0]).intersection(groups[1])))"
   ]
  },
  {
   "cell_type": "code",
   "execution_count": 49,
   "metadata": {},
   "outputs": [],
   "source": [
    "for i in range(num_groups):\n",
    "    with open('group_{}_of_{}'.format(i+1, num_groups), 'w') as f:\n",
    "        for c in groups[i]:\n",
    "            f.write('{}\\n'.format(c))"
   ]
  },
  {
   "cell_type": "code",
   "execution_count": null,
   "metadata": {},
   "outputs": [],
   "source": []
  }
 ],
 "metadata": {
  "kernelspec": {
   "display_name": "Python 3",
   "language": "python",
   "name": "python3"
  },
  "language_info": {
   "codemirror_mode": {
    "name": "ipython",
    "version": 3
   },
   "file_extension": ".py",
   "mimetype": "text/x-python",
   "name": "python",
   "nbconvert_exporter": "python",
   "pygments_lexer": "ipython3",
   "version": "3.6.4"
  }
 },
 "nbformat": 4,
 "nbformat_minor": 1
}
